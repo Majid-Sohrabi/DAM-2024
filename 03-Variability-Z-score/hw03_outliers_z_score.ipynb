{
  "nbformat": 4,
  "nbformat_minor": 0,
  "metadata": {
    "colab": {
      "provenance": [],
      "toc_visible": true
    },
    "kernelspec": {
      "name": "python3",
      "display_name": "Python 3"
    },
    "language_info": {
      "name": "python"
    }
  },
  "cells": [
    {
      "cell_type": "markdown",
      "source": [
        "About the homework: In some tasks, in addition to writing code, answers to questions and conclusions are required (there are special Markdown cells marked with **Answer**).\n",
        "\n",
        "The ability to analyze the results of experiments is an important skill. Therefore, answers carry more weight than the code: the code accounts for 30% of the task grade, while answers to questions account for 70%."
      ],
      "metadata": {
        "id": "BRE25qQhWshc"
      }
    },
    {
      "cell_type": "code",
      "source": [
        "import matplotlib.pyplot as plt\n",
        "import numpy as np\n",
        "import pandas as pd\n",
        "import seaborn as sns"
      ],
      "metadata": {
        "id": "zKPPJJrBSod6"
      },
      "execution_count": null,
      "outputs": []
    },
    {
      "cell_type": "markdown",
      "source": [
        "Download the [UCI Heart Disease Data](https://www.kaggle.com/datasets/redwankarimsony/heart-disease-data/data)"
      ],
      "metadata": {
        "id": "1PDwH6_BSkxp"
      }
    },
    {
      "cell_type": "code",
      "source": [
        "df = pd.read_csv('/content/heart_disease_uci.csv')\n",
        "df.sample(4)"
      ],
      "metadata": {
        "id": "wUvCxSK6RkKR"
      },
      "execution_count": null,
      "outputs": []
    },
    {
      "cell_type": "markdown",
      "source": [
        "# Task 1 (2 points)"
      ],
      "metadata": {
        "id": "A65LaFazTF06"
      }
    },
    {
      "cell_type": "markdown",
      "source": [
        "Compute the mean, quartiles(Q1, Q2, Q3) and std for every numerical feature (also include column `'id'`)."
      ],
      "metadata": {
        "id": "2V7JvWWBUaA_"
      }
    },
    {
      "cell_type": "code",
      "source": [
        "#YOUR CODE"
      ],
      "metadata": {
        "id": "rIKd5saDUNKA"
      },
      "execution_count": null,
      "outputs": []
    },
    {
      "cell_type": "markdown",
      "source": [
        "Let's look into `'id'` feature. Does it seem to differ from other variables? If yes, how?"
      ],
      "metadata": {
        "id": "Td3yntByWHmv"
      }
    },
    {
      "cell_type": "markdown",
      "source": [
        "**Answer** \\#YOUR ANSWER"
      ],
      "metadata": {
        "id": "gHp2IAkjWwsZ"
      }
    },
    {
      "cell_type": "markdown",
      "source": [
        "Draw the distribution of the `'id'` variable. Describe it and explain, why does it look like this. What useful information about heart disease can be extracted from it?"
      ],
      "metadata": {
        "id": "cYj4XCy-clSU"
      }
    },
    {
      "cell_type": "code",
      "source": [
        "#YOUR CODE"
      ],
      "metadata": {
        "id": "2DpoI5S4cwNj"
      },
      "execution_count": null,
      "outputs": []
    },
    {
      "cell_type": "markdown",
      "source": [
        "**Answer** \\#YOUR ANSWER"
      ],
      "metadata": {
        "id": "RNJuFy9XcibU"
      }
    },
    {
      "cell_type": "markdown",
      "source": [
        "# Task 2 (2 points)"
      ],
      "metadata": {
        "id": "JhwgOXpIggxM"
      }
    },
    {
      "cell_type": "markdown",
      "source": [
        "Let's search for outliers in numerical variables (do not include `'id'`).\n",
        "\n",
        "First of all, draw boxplots for every one of them on one figure.\n",
        "\n",
        "Hint: use `plt.subplots`"
      ],
      "metadata": {
        "id": "hRBWdzYugzAZ"
      }
    },
    {
      "cell_type": "markdown",
      "source": [
        "Describe the plots:\n",
        "\n",
        "\n",
        "\n",
        "*   Which features do not have any outliers?\n",
        "*   Which features seem to have the maximum number of outliers?\n",
        "*   For which features it may be hard to count the number of outliers? Why?\n",
        "\n",
        "\n",
        "\n"
      ],
      "metadata": {
        "id": "IgCdQznfh9v4"
      }
    },
    {
      "cell_type": "code",
      "source": [
        "#YOUR CODE"
      ],
      "metadata": {
        "id": "bU28SZllhCMX"
      },
      "execution_count": null,
      "outputs": []
    },
    {
      "cell_type": "markdown",
      "source": [
        "**Answer** \\#YOUR ANSWER"
      ],
      "metadata": {
        "id": "eleRkL_zifuB"
      }
    },
    {
      "cell_type": "markdown",
      "source": [
        "Use the $1.5IQR$ approach and count the number of outliers for each column."
      ],
      "metadata": {
        "id": "1CfgFBtwjFuk"
      }
    },
    {
      "cell_type": "code",
      "source": [
        "#YOUR CODE"
      ],
      "metadata": {
        "id": "1ek0PHhnjFYu"
      },
      "execution_count": null,
      "outputs": []
    },
    {
      "cell_type": "markdown",
      "source": [
        "For the feature with most outliers, draw the histogram and depict the bounds. Do the bounds seem too tight or too wide? Is deleting all outliers for this feature a good idea?"
      ],
      "metadata": {
        "id": "TTWech8rj17V"
      }
    },
    {
      "cell_type": "code",
      "source": [
        "#YOUR CODE"
      ],
      "metadata": {
        "id": "io6Nt_Vukyeu"
      },
      "execution_count": null,
      "outputs": []
    },
    {
      "cell_type": "markdown",
      "source": [
        "**Answer** \\#YOUR ANSWER"
      ],
      "metadata": {
        "id": "d_d9Xju8mSpN"
      }
    },
    {
      "cell_type": "markdown",
      "source": [
        "# Task 3 (2 points)"
      ],
      "metadata": {
        "id": "nYTFtI0OnHDi"
      }
    },
    {
      "cell_type": "markdown",
      "source": [
        "Find the group (or groups) of people that will be deleted, if we delete all the outliers for the feature with the most outliers from the previous task."
      ],
      "metadata": {
        "id": "okN--1LvnKXv"
      }
    },
    {
      "cell_type": "code",
      "source": [
        "#YOUR CODE"
      ],
      "metadata": {
        "id": "-owh6gXQlYvG"
      },
      "execution_count": null,
      "outputs": []
    },
    {
      "cell_type": "markdown",
      "source": [
        "**Answer** \\#YOUR ANSWER"
      ],
      "metadata": {
        "id": "s2lqH5-dobIK"
      }
    },
    {
      "cell_type": "markdown",
      "source": [
        "# Task 4 (2 points)"
      ],
      "metadata": {
        "id": "6w9GbUGuS_Pe"
      }
    },
    {
      "cell_type": "markdown",
      "source": [
        "Check the proportion of missing values in the dataset. What approach can be used to tackle the problem for every variable?"
      ],
      "metadata": {
        "id": "598SNtbrTBvY"
      }
    },
    {
      "cell_type": "code",
      "source": [
        "#YOUR CODE"
      ],
      "metadata": {
        "id": "VQUR3NXMS08z"
      },
      "execution_count": null,
      "outputs": []
    },
    {
      "cell_type": "markdown",
      "source": [
        "**Answer** \\#YOUR ANSWER"
      ],
      "metadata": {
        "id": "d2GWA5ijqHoo"
      }
    },
    {
      "cell_type": "markdown",
      "source": [
        "Fill the missing values, for categorical features create new category `'NOT GIVEN'`"
      ],
      "metadata": {
        "id": "GGKJYgToscZH"
      }
    },
    {
      "cell_type": "code",
      "source": [
        "fill_dict = {}\n",
        "#YOUR CODE"
      ],
      "metadata": {
        "id": "VUBE4P-GsxQc"
      },
      "execution_count": null,
      "outputs": []
    },
    {
      "cell_type": "markdown",
      "source": [
        "# Task 5 (2 points)"
      ],
      "metadata": {
        "id": "U37-W3dHuCK1"
      }
    },
    {
      "cell_type": "markdown",
      "source": [
        "Convert every numerical variable into z-scores:"
      ],
      "metadata": {
        "id": "bKawTqEpuF4t"
      }
    },
    {
      "cell_type": "code",
      "source": [
        "from scipy.stats import zscore\n",
        "\n",
        "#YOUR CODE"
      ],
      "metadata": {
        "id": "Ajsvy4x4uBxl"
      },
      "execution_count": null,
      "outputs": []
    },
    {
      "cell_type": "markdown",
      "source": [
        "Find the most extreme value in the dataset: in what column is it in?"
      ],
      "metadata": {
        "id": "ya_I0ojgvTCd"
      }
    },
    {
      "cell_type": "code",
      "source": [
        "#YOUR CODE"
      ],
      "metadata": {
        "id": "uyKQHXLPvF5N"
      },
      "execution_count": null,
      "outputs": []
    },
    {
      "cell_type": "markdown",
      "source": [
        "**Answer** \\#YOUR ANSWER"
      ],
      "metadata": {
        "id": "9TQgGqZ_vvKF"
      }
    },
    {
      "cell_type": "markdown",
      "source": [
        "Draw the distributions on one plot. Adjust the visible area of the histogram in such way, that the bar for the most extreme value is visible. It is ok to cut  very high bars."
      ],
      "metadata": {
        "id": "kSyD8LKrvhJs"
      }
    },
    {
      "cell_type": "code",
      "source": [
        "#YOUR CODE"
      ],
      "metadata": {
        "id": "4ohbDx4gvjW8"
      },
      "execution_count": null,
      "outputs": []
    }
  ]
}