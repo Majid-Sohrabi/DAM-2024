{
  "nbformat": 4,
  "nbformat_minor": 0,
  "metadata": {
    "colab": {
      "provenance": []
    },
    "kernelspec": {
      "name": "python3",
      "display_name": "Python 3"
    },
    "language_info": {
      "name": "python"
    }
  },
  "cells": [
    {
      "cell_type": "markdown",
      "source": [
        "About the homework: In some tasks, in addition to writing code, answers to questions and conclusions are required (there are special Markdown cells marked with **Answer**).\n",
        "\n",
        "The ability to analyze the results of experiments is an important skill. Therefore, answers carry more weight than the code: the code accounts for 30% of the task grade, while answers to questions account for 70%.\n",
        "\n",
        "**Reminder:** Plagiarism is prohibited. Use of AI without mentioning how and in which parts it was used is also prohibited. If plagiarism or dishonest use of AI is revealed, the assignment is graded with 0."
      ],
      "metadata": {
        "id": "lD1R5rWO4_Dj"
      }
    },
    {
      "cell_type": "code",
      "source": [
        "import matplotlib.pyplot as plt\n",
        "import numpy as np\n",
        "import pandas as pd\n",
        "import seaborn as sns"
      ],
      "metadata": {
        "id": "Vpli9dp75ypi"
      },
      "execution_count": null,
      "outputs": []
    },
    {
      "cell_type": "markdown",
      "source": [
        "Let's work with data about students."
      ],
      "metadata": {
        "id": "ESuPE4JcBFQr"
      }
    },
    {
      "cell_type": "code",
      "source": [
        "!wget https://raw.githubusercontent.com/Majid-Sohrabi/DAM-2024/refs/heads/main/07-trees/students.csv"
      ],
      "metadata": {
        "id": "UjVeQDstqPf8"
      },
      "execution_count": null,
      "outputs": []
    },
    {
      "cell_type": "code",
      "source": [
        "df = pd.read_csv('students.csv')\n",
        "\n",
        "df.sample(4)"
      ],
      "metadata": {
        "id": "RlrhG1L6MNhu"
      },
      "execution_count": null,
      "outputs": []
    },
    {
      "cell_type": "markdown",
      "source": [
        "We will predict their performance index."
      ],
      "metadata": {
        "id": "BchqwErkBNfA"
      }
    },
    {
      "cell_type": "code",
      "source": [
        "X = df.drop(columns=['Performance Index'])\n",
        "y = df['Performance Index']"
      ],
      "metadata": {
        "id": "X19B7UvbA4V_"
      },
      "execution_count": null,
      "outputs": []
    },
    {
      "cell_type": "markdown",
      "source": [
        "# Task 1 (2 points)"
      ],
      "metadata": {
        "id": "DweDvnub6c4B"
      }
    },
    {
      "cell_type": "markdown",
      "source": [
        "Let's try to propose hypothesis, which features will be the most useful.\n",
        "\n",
        "For every feature $x^j$:\n",
        "\n",
        "*   Draw a plot of $x^j$ and target (scatter plot, if feature is numerical and boxplot if the feature is categorical)\n",
        "*   Compute correlation of  $x^j$ and target if the feature is numerical.\n",
        "\n"
      ],
      "metadata": {
        "id": "4ZfPeZce6zdD"
      }
    },
    {
      "cell_type": "markdown",
      "source": [
        "Draw conclusions: which features seems to be the most important? Which does not seem useful? Does it seems logical?"
      ],
      "metadata": {
        "id": "QrRc18HS9SKK"
      }
    },
    {
      "cell_type": "code",
      "execution_count": null,
      "metadata": {
        "id": "kQ100Mx-48oS"
      },
      "outputs": [],
      "source": [
        "#YOUR CODE"
      ]
    },
    {
      "cell_type": "markdown",
      "source": [
        "**Answer** \\#YOUR ANSWER\n"
      ],
      "metadata": {
        "id": "fkfJ6po-9hUA"
      }
    },
    {
      "cell_type": "markdown",
      "source": [
        "# Task 2 (3 points)"
      ],
      "metadata": {
        "id": "6OVSfiUgCqP6"
      }
    },
    {
      "cell_type": "markdown",
      "source": [
        "Split data into train and test. Set `test_size=0.3, random_state=0`"
      ],
      "metadata": {
        "id": "MEqXLhjuDmEb"
      }
    },
    {
      "cell_type": "code",
      "source": [
        "from sklearn.model_selection import train_test_split\n",
        "\n",
        "#YOUR CODE"
      ],
      "metadata": {
        "id": "4Yz3Q5bjDrjZ"
      },
      "execution_count": null,
      "outputs": []
    },
    {
      "cell_type": "markdown",
      "source": [
        "Preprocess the data:\n",
        "\n",
        "\n",
        "*   Depict number of missing values in every column, replace missing values with median, computed on train data (numerical features) or with 'Not Given' (categorical features)\n",
        "*   Encode the categorical with one-hot-encoder\n",
        "\n"
      ],
      "metadata": {
        "id": "Pe58dljUCvUd"
      }
    },
    {
      "cell_type": "code",
      "source": [
        "values = {#YOUR CODE\n",
        "          }\n",
        "X_test.fillna(values, inplace=True)\n",
        "X_train.fillna(values, inplace=True)\n",
        "\n",
        "#YOUR CODE"
      ],
      "metadata": {
        "id": "hidXRJe-KTFR"
      },
      "execution_count": null,
      "outputs": []
    },
    {
      "cell_type": "markdown",
      "source": [
        "Train linear regression without regularization, compute MSE on train and test data."
      ],
      "metadata": {
        "id": "_cTmhBn2EvnT"
      }
    },
    {
      "cell_type": "code",
      "source": [
        "from sklearn.linear_model import LinearRegression\n",
        "from sklearn.metrics import mean_squared_error\n",
        "\n",
        "#YOUR CODE"
      ],
      "metadata": {
        "id": "dnZf_h8CDds4"
      },
      "execution_count": null,
      "outputs": []
    },
    {
      "cell_type": "markdown",
      "source": [
        "# Task 3 (3 points)"
      ],
      "metadata": {
        "id": "qk6eTNaQ1KB5"
      }
    },
    {
      "cell_type": "markdown",
      "source": [
        "Investigate the coefficients of the model. Why were they so big/small? Can the absolute value of the coefficitnt be used as a measure of importance of the feature? Why/why not?"
      ],
      "metadata": {
        "id": "Z-WSPS-D1ODB"
      }
    },
    {
      "cell_type": "code",
      "source": [
        "#YOUR CODE"
      ],
      "metadata": {
        "id": "AbwaV4s1qWBH"
      },
      "execution_count": null,
      "outputs": []
    },
    {
      "cell_type": "markdown",
      "source": [
        "**Answer** \\#YOUR ANSWER"
      ],
      "metadata": {
        "id": "hvnVSQBCHlhW"
      }
    },
    {
      "cell_type": "markdown",
      "source": [
        "Draw conclusions about the model and important features and explain if it is logical. If it could not be done right now, tackle the problem."
      ],
      "metadata": {
        "id": "zLF4uvak3Ypb"
      }
    },
    {
      "cell_type": "code",
      "source": [
        "from sklearn.preprocessing import StandardScaler\n",
        "#YOUR CODE"
      ],
      "metadata": {
        "id": "9KxLVUFW3rFm"
      },
      "execution_count": null,
      "outputs": []
    },
    {
      "cell_type": "markdown",
      "source": [
        "**Answer** \\#YOUR ANSWER"
      ],
      "metadata": {
        "id": "_ZgSC9Tl3rul"
      }
    },
    {
      "cell_type": "markdown",
      "source": [
        "# Task 3 (3 points)"
      ],
      "metadata": {
        "id": "9HDB5onVHumv"
      }
    },
    {
      "cell_type": "markdown",
      "source": [
        "For different `alpha` hyperparameter fit linear regression with $L_1$ regularization (`Lasso` model, if there are warnings - set `tol=0.1`).\n",
        "\n",
        "Choose the grid in such way that the smallest alpha will result in 0-5 zero coefficent and for biggest - all coefficient will be 0.\n",
        "\n",
        "For every model save number of zero coefficients and MSE on train and test data"
      ],
      "metadata": {
        "id": "HDtb4ZscHykn"
      }
    },
    {
      "cell_type": "code",
      "source": [
        "from sklearn.linear_model import Lasso\n",
        "alphas = #YOUR CODE\n",
        "\n",
        "\n",
        "for alpha in alphas:\n",
        "  #YOUR CODE\n"
      ],
      "metadata": {
        "id": "co0IFINHxQLg"
      },
      "execution_count": null,
      "outputs": []
    },
    {
      "cell_type": "markdown",
      "source": [
        "Draw 2 plots near each other: plot of number of aero coefficients and plot of MSE (both train and test).  Draw conclusions: compare the MSE of Lasso and initial linear regression, which features are considered important in the best model, is it logical."
      ],
      "metadata": {
        "id": "r0EnTdftzKts"
      }
    },
    {
      "cell_type": "code",
      "source": [
        "#YOUR CODE"
      ],
      "metadata": {
        "id": "O0WjpBOlCP4r"
      },
      "execution_count": null,
      "outputs": []
    },
    {
      "cell_type": "markdown",
      "source": [
        "**Answer** \\#YOUR ANSWER"
      ],
      "metadata": {
        "id": "u4V13N7Dze5-"
      }
    },
    {
      "cell_type": "markdown",
      "source": [
        "# Task 4 (2 points)"
      ],
      "metadata": {
        "id": "QUxXm3170Hgt"
      }
    },
    {
      "cell_type": "markdown",
      "source": [
        "Now, use $L_2$ regularization. Tune `Ridge` model hyperparameters using cross-validation. Report the best MSE.  "
      ],
      "metadata": {
        "id": "mgOsKdR20YZF"
      }
    },
    {
      "cell_type": "code",
      "source": [
        "from sklearn.linear_model import Ridge\n",
        "from sklearn.model_selection import GridSearchCV\n",
        "\n",
        "params = {'alpha' : np.logspace(-12, 10, 50)}\n",
        "\n",
        "#YOUR CODE"
      ],
      "metadata": {
        "id": "VOdg1BqcsfZp"
      },
      "execution_count": null,
      "outputs": []
    },
    {
      "cell_type": "markdown",
      "source": [
        "Investigate coefficients: how many zeros? What Which features are important?"
      ],
      "metadata": {
        "id": "RncXOSDx_KjZ"
      }
    },
    {
      "cell_type": "code",
      "source": [
        "#YOUR CODE"
      ],
      "metadata": {
        "id": "m5DQwigD_FcX"
      },
      "execution_count": null,
      "outputs": []
    },
    {
      "cell_type": "markdown",
      "source": [
        "**Answer** \\#YOUR ANSWER"
      ],
      "metadata": {
        "id": "9-W-ElJw_bMI"
      }
    }
  ]
}