{
  "nbformat": 4,
  "nbformat_minor": 0,
  "metadata": {
    "colab": {
      "provenance": [],
      "toc_visible": true
    },
    "kernelspec": {
      "name": "python3",
      "display_name": "Python 3"
    },
    "language_info": {
      "name": "python"
    }
  },
  "cells": [
    {
      "cell_type": "markdown",
      "source": [
        "About the homework: In some tasks, in addition to writing code, answers to questions and conclusions are required (there are special Markdown cells marked with **Answer**).\n",
        "\n",
        "The ability to analyze the results of experiments is an important skill. Therefore, answers carry more weight than the code: the code accounts for 30% of the task grade, while answers to questions account for 70%."
      ],
      "metadata": {
        "id": "HAlUMJjFf8dj"
      }
    },
    {
      "cell_type": "code",
      "source": [
        "import matplotlib.pyplot as plt\n",
        "import numpy as np\n",
        "import pandas as pd\n",
        "import seaborn as sns"
      ],
      "metadata": {
        "id": "DweY5baDaIvw"
      },
      "execution_count": null,
      "outputs": []
    },
    {
      "cell_type": "markdown",
      "source": [
        "Download the [train.csv](https://www.kaggle.com/competitions/house-prices-advanced-regression-techniques/data?select=train.csv) with House Prices"
      ],
      "metadata": {
        "id": "lu5EAdGTZyUR"
      }
    },
    {
      "cell_type": "code",
      "execution_count": null,
      "metadata": {
        "id": "LxNAU8tuZcXE"
      },
      "outputs": [],
      "source": [
        "df = pd.read_csv('train.csv')\n",
        "df.sample(3)"
      ]
    },
    {
      "cell_type": "markdown",
      "source": [
        "# Task 1 (2 points)"
      ],
      "metadata": {
        "id": "r5qr-5FNcoK4"
      }
    },
    {
      "cell_type": "markdown",
      "source": [
        "Test the hypothesis that the expected value ($\\mu$) of size of garage in square feet (`'GarageArea'`) is 485. Use two-sided alternative hypothesis. Choose the test that is suitable for the data (and explain, why).\n",
        "\n",
        "Do we reject/accept the hypothesis if $\\alpha = 5\\%$ ? And if $\\alpha = 1\\%$ ?"
      ],
      "metadata": {
        "id": "X8i7rRd5aUr4"
      }
    },
    {
      "cell_type": "code",
      "source": [
        "#YOUR CODE"
      ],
      "metadata": {
        "id": "Pe-uRG6Qboc6"
      },
      "execution_count": null,
      "outputs": []
    },
    {
      "cell_type": "markdown",
      "source": [
        "**Answer** \\#YOUR ANSWER"
      ],
      "metadata": {
        "id": "vHStlTZym236"
      }
    },
    {
      "cell_type": "markdown",
      "source": [
        "# Task 2 (2 points)"
      ],
      "metadata": {
        "id": "GL4aHBXNgm80"
      }
    },
    {
      "cell_type": "markdown",
      "source": [
        "Is the condition of the material on the exterior (`'ExterCond'`) independent of the exterior material quality (`'ExterQual'`)?\n",
        "\n",
        "Find it out using hypothesis testing ($\\alpha = 5\\%$)"
      ],
      "metadata": {
        "id": "KsKm3GCyhEK1"
      }
    },
    {
      "cell_type": "code",
      "source": [
        "#YOUR CODE"
      ],
      "metadata": {
        "id": "0W4jcsLigVNV"
      },
      "execution_count": null,
      "outputs": []
    },
    {
      "cell_type": "markdown",
      "source": [
        "**Answer** \\#YOUR ANSWER"
      ],
      "metadata": {
        "id": "-PkBhjtYiESc"
      }
    },
    {
      "cell_type": "markdown",
      "source": [
        "# Task 3 (2 points)"
      ],
      "metadata": {
        "id": "hyUKdQp3i9ii"
      }
    },
    {
      "cell_type": "markdown",
      "source": [
        "The *United Housing Journal™* conducted theoretical research and calculated the probabilities that house is located in a particular zone (`'MSZoning'`):\n",
        "\n",
        "* $0.01$ - Agriculture\n",
        "* $0.01$ - Commercial\n",
        "* $0.05$ - Floating Village Residential\n",
        "* $0.01$ - Industrial\n",
        "* $0.01$ - Residential High Density\n",
        "* $0.8$ - Residential Low Density\n",
        "* $0.01$ - Residential Low Density Park\n",
        "* $0.1$ - Residential Medium Density\n",
        "\n",
        "Does the data from our dataset follow this distribution?\n",
        "\n",
        "Find it out using hypothesis testing ($\\alpha = 5\\%$)"
      ],
      "metadata": {
        "id": "icVhlPrTjBeB"
      }
    },
    {
      "cell_type": "code",
      "source": [
        "#YOUR CODE"
      ],
      "metadata": {
        "id": "QxKoPr7Iiekw"
      },
      "execution_count": null,
      "outputs": []
    },
    {
      "cell_type": "markdown",
      "source": [
        "**Answer** \\#YOUR ANSWER"
      ],
      "metadata": {
        "id": "HNpKpPkVlxC_"
      }
    },
    {
      "cell_type": "markdown",
      "source": [
        "#Task 4 (2 points)"
      ],
      "metadata": {
        "id": "U2rlNgzRmMKl"
      }
    },
    {
      "cell_type": "markdown",
      "source": [
        "Let's compare houses that has access to differnet types of alleys (`'Alley'`). Do they have the same linear feet of street connected to property (`'LotFrontage'`)?\n",
        "\n",
        "Find it out using hypothesis testing ($\\alpha = 5\\%$)"
      ],
      "metadata": {
        "id": "9QWYTGGtmOHq"
      }
    },
    {
      "cell_type": "code",
      "source": [
        "#YOUR CODE"
      ],
      "metadata": {
        "id": "t0FC8dewmFgt"
      },
      "execution_count": null,
      "outputs": []
    },
    {
      "cell_type": "markdown",
      "source": [
        "**Answer** \\#YOUR ANSWER"
      ],
      "metadata": {
        "id": "QtfimHyBoLX4"
      }
    },
    {
      "cell_type": "markdown",
      "source": [
        "# Task 5 (2 points)"
      ],
      "metadata": {
        "id": "kX-sgu9-dRA1"
      }
    },
    {
      "cell_type": "markdown",
      "source": [
        "Find features with the maximal positive/negative correlation. Does it seem logical? Why/why not?"
      ],
      "metadata": {
        "id": "bzg9XYRvdUwQ"
      }
    },
    {
      "cell_type": "code",
      "source": [
        "#YOUR CODE"
      ],
      "metadata": {
        "id": "fAHU1J31ctx0"
      },
      "execution_count": null,
      "outputs": []
    },
    {
      "cell_type": "markdown",
      "source": [
        "**Answer** \\#YOUR ANSWER"
      ],
      "metadata": {
        "id": "CcSf2oJ1elof"
      }
    }
  ]
}