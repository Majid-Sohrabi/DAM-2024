{
  "nbformat": 4,
  "nbformat_minor": 0,
  "metadata": {
    "colab": {
      "provenance": [],
      "toc_visible": true
    },
    "kernelspec": {
      "name": "python3",
      "display_name": "Python 3"
    },
    "language_info": {
      "name": "python"
    }
  },
  "cells": [
    {
      "cell_type": "markdown",
      "source": [
        "About the homework: In some tasks, in addition to writing code, answers to questions and conclusions are required (there are special Markdown cells marked with **Answer**).\n",
        "\n",
        "The ability to analyze the results of experiments is an important skill. Therefore, answers carry more weight than the code: the code accounts for 30% of the task grade, while answers to questions account for 70%."
      ],
      "metadata": {
        "id": "AelhvBEmHcfC"
      }
    },
    {
      "cell_type": "code",
      "source": [
        "import numpy as np\n",
        "import pandas as pd\n",
        "import matplotlib.pyplot as plt\n",
        "import seaborn as sns"
      ],
      "metadata": {
        "id": "nzHz8x37jri1"
      },
      "execution_count": null,
      "outputs": []
    },
    {
      "cell_type": "markdown",
      "source": [
        "Download the [dataset about Pokemons](https://www.kaggle.com/datasets/abcsds/pokemon)"
      ],
      "metadata": {
        "id": "1mAIjDWLjd_6"
      }
    },
    {
      "cell_type": "code",
      "execution_count": null,
      "metadata": {
        "id": "4KSPk8weisct"
      },
      "outputs": [],
      "source": [
        "df = pd.read_csv('Pokemon.csv')\n",
        "df.sample(4)"
      ]
    },
    {
      "cell_type": "markdown",
      "source": [
        "# Task 1 (1 point)"
      ],
      "metadata": {
        "id": "lvHas5wFkBLk"
      }
    },
    {
      "cell_type": "markdown",
      "source": [
        "Investigate  the type of every feature. Is it numerical or cetegorical (nominal or ordinal)? Explain, why.\n",
        "\n",
        "You may need to check the type of the column or consult the description of the data on Kaggle.com"
      ],
      "metadata": {
        "id": "Kc7y6m_ZkEx5"
      }
    },
    {
      "cell_type": "code",
      "source": [
        "#YOUR CODE"
      ],
      "metadata": {
        "id": "9L_0QA1Qlh_r"
      },
      "execution_count": null,
      "outputs": []
    },
    {
      "cell_type": "markdown",
      "source": [
        "**Answer** \\#YOUR ANSWER"
      ],
      "metadata": {
        "id": "Os0HKBvnkpIS"
      }
    },
    {
      "cell_type": "markdown",
      "source": [
        "# Task 2 (1 point)"
      ],
      "metadata": {
        "id": "6PNBhh3YmDNh"
      }
    },
    {
      "cell_type": "markdown",
      "source": [
        "It is said in the description of the dataset that `Total` is the sum of the stats after it. Let's check, if it is true.\n",
        "\n",
        "Create a new column `'New Total'`, what is the sum of `HP, \tAttack,\tDefense,\tSp. Atk,\tSp. Def,\tSpeed`"
      ],
      "metadata": {
        "id": "-dFVCWhTmMZI"
      }
    },
    {
      "cell_type": "code",
      "source": [
        "#YOUR CODE"
      ],
      "metadata": {
        "id": "tpzPIRASmFyX"
      },
      "execution_count": null,
      "outputs": []
    },
    {
      "cell_type": "markdown",
      "source": [
        "Now, print the number of rows that contain deifferent   `'Total'` and `'New Total'` values and depict these rows.\n",
        "\n",
        "Hint: compare columns `'Total'` and `'New Total'` and filter rows using the comparison.\n"
      ],
      "metadata": {
        "id": "VG6XFDEumv2-"
      }
    },
    {
      "cell_type": "code",
      "source": [
        "#YOUR CODE"
      ],
      "metadata": {
        "id": "kVILcZxjm7M_"
      },
      "execution_count": null,
      "outputs": []
    },
    {
      "cell_type": "markdown",
      "source": [
        "# Task 3 (2 points)"
      ],
      "metadata": {
        "id": "wROS0m8BnY3x"
      }
    },
    {
      "cell_type": "markdown",
      "source": [
        "Create a frequency table for the `'Type 1'` feature"
      ],
      "metadata": {
        "id": "adiIipTHnegG"
      }
    },
    {
      "cell_type": "code",
      "source": [
        "#YOUR CODE"
      ],
      "metadata": {
        "id": "8TOLBO2CnjzZ"
      },
      "execution_count": null,
      "outputs": []
    },
    {
      "cell_type": "markdown",
      "source": [
        "Also, add proportions and percentage for every type  to the table.\n",
        "\n",
        "Hint: `Series.to_frame` may be a useful function"
      ],
      "metadata": {
        "id": "FD02CLs6nw-u"
      }
    },
    {
      "cell_type": "code",
      "source": [
        "#YOUR CODE"
      ],
      "metadata": {
        "id": "1vyFwGy8n6hb"
      },
      "execution_count": null,
      "outputs": []
    },
    {
      "cell_type": "markdown",
      "source": [
        "Draw a plot to depict the percentage. Make sure to make labels/ticks readable."
      ],
      "metadata": {
        "id": "alhitU-eontE"
      }
    },
    {
      "cell_type": "code",
      "source": [
        "#YOUR CODE"
      ],
      "metadata": {
        "id": "7-taUHfuouFw"
      },
      "execution_count": null,
      "outputs": []
    },
    {
      "cell_type": "markdown",
      "source": [
        "Draw conclusions from the plot. (Are there a lot of differnet types? What is the most/least popular type? ...)"
      ],
      "metadata": {
        "id": "NaOJiwvEpR62"
      }
    },
    {
      "cell_type": "markdown",
      "source": [
        "**Answer** \\#YOUR ANSWER"
      ],
      "metadata": {
        "id": "zKhzK0FxpeI-"
      }
    },
    {
      "cell_type": "markdown",
      "source": [
        "# Task 4 (2 points)"
      ],
      "metadata": {
        "id": "2jq92opzqRfX"
      }
    },
    {
      "cell_type": "markdown",
      "source": [
        "Compue the measures of central tendency for the `Sp. Atk` feature"
      ],
      "metadata": {
        "id": "ilvnzZ-FqTja"
      }
    },
    {
      "cell_type": "code",
      "source": [
        "col = 'Sp. Atk'\n",
        "#YOUR CODE"
      ],
      "metadata": {
        "id": "nuj_1WBOqZCO"
      },
      "execution_count": null,
      "outputs": []
    },
    {
      "cell_type": "markdown",
      "source": [
        "Draw a histogram for the feature and depict the measures on it"
      ],
      "metadata": {
        "id": "IihXI9laq5IR"
      }
    },
    {
      "cell_type": "code",
      "source": [
        "#YOUR CODE"
      ],
      "metadata": {
        "id": "0M3cl1oEqcwh"
      },
      "execution_count": null,
      "outputs": []
    },
    {
      "cell_type": "markdown",
      "source": [
        "Is the distribution skewed? Explain your answer."
      ],
      "metadata": {
        "id": "dtsfjNLJrO2Z"
      }
    },
    {
      "cell_type": "markdown",
      "source": [
        "**Answer** \\#YOUR ANSWER"
      ],
      "metadata": {
        "id": "MDMXnZ85rVrK"
      }
    },
    {
      "cell_type": "markdown",
      "source": [
        "# Task 5 (2 point)"
      ],
      "metadata": {
        "id": "0_3rhUhar7Gw"
      }
    },
    {
      "cell_type": "markdown",
      "source": [
        "Now, compute measures of central tendencies for legendary and not legendary separately. Is there any difference?"
      ],
      "metadata": {
        "id": "Zmfma0pcr83o"
      }
    },
    {
      "cell_type": "code",
      "source": [
        "#YOUR CODE"
      ],
      "metadata": {
        "id": "bDE27UK7sJ3D"
      },
      "execution_count": null,
      "outputs": []
    },
    {
      "cell_type": "markdown",
      "source": [
        "**Answer** \\#YOUR ANSWER"
      ],
      "metadata": {
        "id": "TYSPubUxsfw5"
      }
    },
    {
      "cell_type": "markdown",
      "source": [
        "Draw the hisograms on one plot.\n",
        "\n",
        "Hint: use `hue` in `sns.histplot`"
      ],
      "metadata": {
        "id": "te5n7n1FssWT"
      }
    },
    {
      "cell_type": "code",
      "source": [
        "#YOUR CODE"
      ],
      "metadata": {
        "id": "OYiAwgbDsvOa"
      },
      "execution_count": null,
      "outputs": []
    },
    {
      "cell_type": "markdown",
      "source": [
        "# Task 6 (2 point)"
      ],
      "metadata": {
        "id": "OmIStG4Qtus7"
      }
    },
    {
      "cell_type": "markdown",
      "source": [
        "There is a problem that bars for legendary pokemons are significantly smaller than the bars for non-legendary. Explain, why is it happening"
      ],
      "metadata": {
        "id": "yDPxukLAtOzt"
      }
    },
    {
      "cell_type": "code",
      "source": [
        "#YOUR CODE"
      ],
      "metadata": {
        "id": "XERF7aoxtgZp"
      },
      "execution_count": null,
      "outputs": []
    },
    {
      "cell_type": "markdown",
      "source": [
        "**Answer** \\#YOUR ANSWER"
      ],
      "metadata": {
        "id": "GCm60C4vtbj1"
      }
    },
    {
      "cell_type": "markdown",
      "source": [
        "Fix the histogram (make the bars comparable hights), so it wil be more convenient to compare the distributions.\n",
        "\n",
        "Hint: consult the [documentation for the histplot](https://seaborn.pydata.org/generated/seaborn.histplot.html) and find, which optional arguments may help."
      ],
      "metadata": {
        "id": "H3kVPnwouDco"
      }
    },
    {
      "cell_type": "code",
      "source": [
        "#YOUR CODE"
      ],
      "metadata": {
        "id": "Az1HAxfxuePE"
      },
      "execution_count": null,
      "outputs": []
    },
    {
      "cell_type": "markdown",
      "source": [
        "Now, make conclusions about the distributions"
      ],
      "metadata": {
        "id": "8ToKOf9cu7Uh"
      }
    },
    {
      "cell_type": "markdown",
      "source": [
        "**Answer** \\#YOUR ANSWER"
      ],
      "metadata": {
        "id": "Z5jWEuK6vAEU"
      }
    }
  ]
}