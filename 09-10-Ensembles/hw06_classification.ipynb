{
  "nbformat": 4,
  "nbformat_minor": 0,
  "metadata": {
    "colab": {
      "provenance": []
    },
    "kernelspec": {
      "name": "python3",
      "display_name": "Python 3"
    },
    "language_info": {
      "name": "python"
    }
  },
  "cells": [
    {
      "cell_type": "markdown",
      "source": [
        "About the homework: In some tasks, in addition to writing code, answers to questions and conclusions are required (there are special Markdown cells marked with **Answer**).\n",
        "\n",
        "The ability to analyze the results of experiments is an important skill. Therefore, answers carry more weight than the code: the code accounts for 30% of the task grade, while answers to questions account for 70%.\n",
        "\n",
        "**Reminder:** Plagiarism is prohibited. Use of AI without mentioning how and in which parts it was used is also prohibited. If plagiarism or dishonest use of AI is revealed, the assignment is graded with 0."
      ],
      "metadata": {
        "id": "49TAe9veVzwn"
      }
    },
    {
      "cell_type": "code",
      "execution_count": null,
      "metadata": {
        "id": "oHekUMcxVIQ_"
      },
      "outputs": [],
      "source": [
        "import numpy as np\n",
        "import pandas as pd\n",
        "\n",
        "import matplotlib.pyplot as plt\n",
        "import seaborn as sns"
      ]
    },
    {
      "cell_type": "markdown",
      "source": [
        "Let's work with Titanic dataset again: Download `train.csv` file from https://www.kaggle.com/c/titanic/data?select=train.csv"
      ],
      "metadata": {
        "id": "1x38Gd4oVsS7"
      }
    },
    {
      "cell_type": "code",
      "source": [
        "df = pd.read_csv('train.csv')\n",
        "df.sample(4)"
      ],
      "metadata": {
        "id": "qGmppxMzWDva"
      },
      "execution_count": null,
      "outputs": []
    },
    {
      "cell_type": "markdown",
      "source": [
        "# Task 1 (1 point)"
      ],
      "metadata": {
        "id": "4_kGbNUgWFn3"
      }
    },
    {
      "cell_type": "markdown",
      "source": [
        "Split dataFrame into train and test. Set `test_size=0.3, random_state=0`"
      ],
      "metadata": {
        "id": "U8JBebYmW7VO"
      }
    },
    {
      "cell_type": "code",
      "source": [
        "from sklearn.model_selection import train_test_split\n",
        "\n",
        "df_train, df_test = #YOUR CODE"
      ],
      "metadata": {
        "id": "6Kqr4WFWXEkT"
      },
      "execution_count": null,
      "outputs": []
    },
    {
      "cell_type": "markdown",
      "source": [
        "Let's start preprocessing the features:\n",
        "\n",
        "\n",
        "\n",
        "*   Drop features with $>40%$ missing values and `'PassengerId'`\n",
        "*   Fill missing values with median (for numerical features) and mode (for categorical features)\n",
        "\n"
      ],
      "metadata": {
        "id": "M0sqX_-bWJiZ"
      }
    },
    {
      "cell_type": "code",
      "source": [
        "df_train.drop(#YOUR CODE, inplace=True)\n",
        "df_test.drop(#YOUR CODE, inplace=True)\n",
        "\n",
        "values = {#YOUR CODE\n",
        "          }\n",
        "df_train.fillna(values, inplace=True)\n",
        "df_test.fillna(values, inplace=True)"
      ],
      "metadata": {
        "id": "9aJD5HxYWu1D"
      },
      "execution_count": null,
      "outputs": []
    },
    {
      "cell_type": "markdown",
      "source": [
        "How many features do we have now? (Do not count `'Survived'` - this will be target)"
      ],
      "metadata": {
        "id": "6fo_YfZBX51t"
      }
    },
    {
      "cell_type": "code",
      "source": [
        "#YOUR CODE"
      ],
      "metadata": {
        "id": "RmLgkeo6X_65"
      },
      "execution_count": null,
      "outputs": []
    },
    {
      "cell_type": "markdown",
      "source": [
        "# Task 2 (2 points)"
      ],
      "metadata": {
        "id": "jm4rQIz7aJJW"
      }
    },
    {
      "cell_type": "markdown",
      "source": [
        "Now, let's use one-hot-encoding to encode columns with type `'object'`:\n",
        "\n",
        "\n",
        "\n",
        "*   Fit the Encoder on train data\n",
        "*   Apply to train and test\n",
        "*   Check, how many new features we have now"
      ],
      "metadata": {
        "id": "VsQuccHwYKFZ"
      }
    },
    {
      "cell_type": "markdown",
      "source": [
        "Describe the problems you have faced (hint: one of the problems - `ValueError` and the solution will be to set `handle_unknown` in the `OneHotEncoder`). Explain, why did they occur, which impact may they have  on the training process?"
      ],
      "metadata": {
        "id": "yYdel3SMZGIx"
      }
    },
    {
      "cell_type": "code",
      "source": [
        "from sklearn.preprocessing import OneHotEncoder\n",
        "\n",
        "ohe = OneHotEncoder(#YOUR CODE\n",
        "\n",
        ")\n",
        "ohe.fit(\n",
        "    #YOUR CODE\n",
        ")\n",
        "\n",
        "X_train_categorical_encoded = #YOUR CODE\n",
        "X_test_categorical_encoded  = #YOUR CODE\n",
        "\n",
        "#YOUR CODE"
      ],
      "metadata": {
        "id": "8xhZ89afXzJ-"
      },
      "execution_count": null,
      "outputs": []
    },
    {
      "cell_type": "markdown",
      "source": [
        "**Answer** \\#YOUR ANSWER\n"
      ],
      "metadata": {
        "id": "oL9vyvSQZ9By"
      }
    },
    {
      "cell_type": "markdown",
      "source": [
        "Drop the columns `'Name','Ticket'` and try again."
      ],
      "metadata": {
        "id": "v8DBnRWTavTw"
      }
    },
    {
      "cell_type": "code",
      "source": [
        "df_train.drop(#YOUR CODE, inplace=True)\n",
        "df_test.drop(#YOUR CODE, inplace=True)\n",
        "\n",
        "\n",
        "ohe = OneHotEncoder(#YOUR CODE\n",
        "\n",
        ")\n",
        "ohe.fit(\n",
        "    #YOUR CODE\n",
        ")\n",
        "\n",
        "X_train_categorical_encoded = #YOUR CODE\n",
        "X_test_categorical_encoded  = #YOUR CODE\n",
        "\n",
        "#YOUR CODE"
      ],
      "metadata": {
        "id": "lS6HMsHYauFx"
      },
      "execution_count": null,
      "outputs": []
    },
    {
      "cell_type": "markdown",
      "source": [
        "Combine numerical features and encoded categorical and split the data into `X` (objects with features) and `y` (target - `Survived` column) for train and test data."
      ],
      "metadata": {
        "id": "s6O51TIgbWp5"
      }
    },
    {
      "cell_type": "code",
      "source": [
        "y_train = #YOUR CODE\n",
        "y_test = #YOUR CODE\n",
        "\n",
        "X_train = np.concatenate((#YOUR CODE,\n",
        "                     X_train_categorical_encoded.A), axis=1)\n",
        "X_test = np.concatenate((#YOUR CODE,\n",
        "                     X_test_categorical_encoded.A), axis=1)"
      ],
      "metadata": {
        "id": "zIfB6P51bEHd"
      },
      "execution_count": null,
      "outputs": []
    },
    {
      "cell_type": "markdown",
      "source": [
        "# Task 3 (2 points)"
      ],
      "metadata": {
        "id": "r7lzHgwzdHD5"
      }
    },
    {
      "cell_type": "markdown",
      "source": [
        "Which metric will be better suitable for our machine learning task? (We want to predict if passenger survived or not). Explain your choice."
      ],
      "metadata": {
        "id": "uQA4eucRdI52"
      }
    },
    {
      "cell_type": "code",
      "source": [
        "#YOUR CODE"
      ],
      "metadata": {
        "id": "lHO9MdHadcgO"
      },
      "execution_count": null,
      "outputs": []
    },
    {
      "cell_type": "markdown",
      "source": [
        "**Answer** \\#YOUR ANSWER\n"
      ],
      "metadata": {
        "id": "DGgl5M4Md3xH"
      }
    },
    {
      "cell_type": "markdown",
      "source": [
        "Fit logistic regression and evaluate the performance on train and test data (using metric you chose)"
      ],
      "metadata": {
        "id": "sAEpBiTFeQXX"
      }
    },
    {
      "cell_type": "code",
      "source": [
        "from sklearn.metrics import #YOUR CODE\n",
        "\n",
        "from sklearn.linear_model import LogisticRegression\n",
        "\n",
        "#YOUR CODE"
      ],
      "metadata": {
        "id": "_8THNU4GeMd8"
      },
      "execution_count": null,
      "outputs": []
    },
    {
      "cell_type": "markdown",
      "source": [
        "Now, use `GridSearchCV` to find better hyperparameters (to avoid warnings about total number of iterations, set `max_iter=1000`)"
      ],
      "metadata": {
        "id": "elBr40iEgjo8"
      }
    },
    {
      "cell_type": "code",
      "source": [
        "from sklearn.model_selection import GridSearchCV\n",
        "from sklearn.tree import DecisionTreeClassifier\n",
        "\n",
        "params = {'C' : #YOUR CODE\n",
        "}\n",
        "\n",
        "clf_lr = GridSearchCV(LogisticRegression(max_iter=1000), params, cv=3, scoring=#YOUR CODE)\n",
        "#YOUR CODE"
      ],
      "metadata": {
        "id": "hU_x8YH6gjI1"
      },
      "execution_count": null,
      "outputs": []
    },
    {
      "cell_type": "markdown",
      "source": [
        "# Task 4 (2 points)"
      ],
      "metadata": {
        "id": "veJlz-Hle6Xr"
      }
    },
    {
      "cell_type": "markdown",
      "source": [
        "Fit a decision tree using `GridSearchCV`. Use the parameter grid for hyperparameters `max_depth, min_samples_split, min_samples_leaf`"
      ],
      "metadata": {
        "id": "m2uHXO8He9rk"
      }
    },
    {
      "cell_type": "code",
      "source": [
        "from sklearn.model_selection import GridSearchCV\n",
        "from sklearn.tree import DecisionTreeClassifier\n",
        "\n",
        "params = { 'max_depth' : #YOUR CODE,\n",
        "          'min_samples_split' : #YOUR CODE,\n",
        "           'min_samples_leaf' : #YOUR CODE\n",
        "}\n",
        "\n",
        "clf_tree = GridSearchCV(DecisionTreeClassifier(), params, cv=3, scoring=#YOUR CODE)\n",
        "#YOUR CODE"
      ],
      "metadata": {
        "id": "d7nO8RqyeMhW"
      },
      "execution_count": null,
      "outputs": []
    },
    {
      "cell_type": "markdown",
      "source": [
        "Now, use soft voting strategy to combine logistic regression and decision tree (use the ones with the best hyperparameters). Measure the quality on train and test data. Did the quality improve?"
      ],
      "metadata": {
        "id": "VmDJDWmGhSVZ"
      }
    },
    {
      "cell_type": "code",
      "source": [
        "#YOUR CODE"
      ],
      "metadata": {
        "id": "y-8UL6KBhcnA"
      },
      "execution_count": null,
      "outputs": []
    },
    {
      "cell_type": "markdown",
      "source": [
        "**Answer** \\#YOUR ANSWER\n"
      ],
      "metadata": {
        "id": "1Ssi1NexpY9H"
      }
    },
    {
      "cell_type": "markdown",
      "source": [
        "# Task 5 (2 points)"
      ],
      "metadata": {
        "id": "Ffnb--9Aik6-"
      }
    },
    {
      "cell_type": "markdown",
      "source": [
        "Now, let's work with random forest and conduct similar experiment to the one on the seminar: let's fit `RandomForestClassifier` for different number of trees and check, how  the quality changes. Draw conclusions."
      ],
      "metadata": {
        "id": "4xA7zd5SisRq"
      }
    },
    {
      "cell_type": "code",
      "source": [
        "from sklearn.ensemble import RandomForestClassifier\n",
        "#YOUR CODE"
      ],
      "metadata": {
        "id": "bcB3Pp4HjE4D"
      },
      "execution_count": null,
      "outputs": []
    },
    {
      "cell_type": "markdown",
      "source": [
        "With how many trees the best train quality is achived? What the test quality will be?"
      ],
      "metadata": {
        "id": "S5jUcPuwm4hu"
      }
    },
    {
      "cell_type": "code",
      "source": [
        "#YOUR CODE"
      ],
      "metadata": {
        "id": "464HNlQzmvWh"
      },
      "execution_count": null,
      "outputs": []
    },
    {
      "cell_type": "markdown",
      "source": [
        "**Answer** \\#YOUR ANSWER\n"
      ],
      "metadata": {
        "id": "9Im5UiGCmRiw"
      }
    },
    {
      "cell_type": "markdown",
      "source": [
        "And the same experiment using `AdaBoost` (set `algorithm='SAMME'` as hyperparameter to avoid warnings), draw conclusions"
      ],
      "metadata": {
        "id": "mY_9ACkjlFHP"
      }
    },
    {
      "cell_type": "code",
      "source": [
        "from sklearn.ensemble import AdaBoostClassifier\n",
        "\n",
        "#YOUR CODE"
      ],
      "metadata": {
        "id": "fLRe0t1XlLtG"
      },
      "execution_count": null,
      "outputs": []
    },
    {
      "cell_type": "markdown",
      "source": [
        "With how many models the best train quality is achived? What the test quality will be?"
      ],
      "metadata": {
        "id": "3e3rmrYunPtP"
      }
    },
    {
      "cell_type": "code",
      "source": [
        "#YOUR CODE"
      ],
      "metadata": {
        "id": "hs30vnG3nOH2"
      },
      "execution_count": null,
      "outputs": []
    },
    {
      "cell_type": "markdown",
      "source": [
        "**Answer** \\#YOUR ANSWER\n"
      ],
      "metadata": {
        "id": "doj-Bx1XmpX0"
      }
    },
    {
      "cell_type": "markdown",
      "source": [
        "# Task 6 (1 point)"
      ],
      "metadata": {
        "id": "Ohj3JMTkndCi"
      }
    },
    {
      "cell_type": "markdown",
      "source": [
        "What is the best quality achived? Which model did achive it? Whith which hyperparameters? Does it seem logical?"
      ],
      "metadata": {
        "id": "D0UxqkGmnjdD"
      }
    },
    {
      "cell_type": "markdown",
      "source": [
        "**Answer** \\#YOUR ANSWER\n"
      ],
      "metadata": {
        "id": "Eo7-ltmQnwsG"
      }
    }
  ]
}